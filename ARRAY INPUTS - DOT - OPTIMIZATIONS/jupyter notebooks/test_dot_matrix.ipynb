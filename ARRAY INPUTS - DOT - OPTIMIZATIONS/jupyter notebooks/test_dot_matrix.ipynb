{
 "cells": [
  {
   "cell_type": "code",
   "execution_count": 1,
   "metadata": {},
   "outputs": [
    {
     "data": {
      "application/javascript": [
       "\n",
       "require(['notebook/js/codecell'], function(codecell) {\n",
       "  codecell.CodeCell.options_default.highlight_modes[\n",
       "      'magic_text/x-csrc'] = {'reg':[/^%%microblaze/]};\n",
       "  Jupyter.notebook.events.one('kernel_ready.Kernel', function(){\n",
       "      Jupyter.notebook.get_cells().map(function(cell){\n",
       "          if (cell.cell_type == 'code'){ cell.auto_highlight(); } }) ;\n",
       "  });\n",
       "});\n"
      ]
     },
     "metadata": {},
     "output_type": "display_data"
    }
   ],
   "source": [
    "import datetime\n",
    "from pynq import Overlay\n",
    "from pynq import DefaultIP\n",
    "from pynq import DefaultHierarchy\n",
    "from pynq import Xlnk\n",
    "from pynq import MMIO\n",
    "from pynq.pl import *\n",
    "import pynq.lib.dma\n",
    "import numpy as np\n",
    "import time"
   ]
  },
  {
   "cell_type": "code",
   "execution_count": 2,
   "metadata": {},
   "outputs": [],
   "source": [
    "XMUL_MATRIX_AXILITES_ADDR_A_DATA = 0x10\n",
    "XMUL_MATRIX_AXILITES_BITS_A_DATA = 32\n",
    "XMUL_MATRIX_AXILITES_ADDR_B_DATA = 0x18\n",
    "XMUL_MATRIX_AXILITES_BITS_B_DATA = 32\n",
    "XMUL_MATRIX_AXILITES_ADDR_C_DATA = 0x20\n",
    "XMUL_MATRIX_AXILITES_BITS_C_DATA = 32\n",
    "\n",
    "def init_hw(filepath):\n",
    "    global ol, xlnk, ip\n",
    "    xlnk = Xlnk()\n",
    "    ol = Overlay(filepath)\n",
    "    ip = ol.dot_matrix_0"
   ]
  },
  {
   "cell_type": "code",
   "execution_count": 3,
   "metadata": {},
   "outputs": [
    {
     "name": "stderr",
     "output_type": "stream",
     "text": [
      "/usr/local/lib/python3.6/dist-packages/pynq/pl_server/device.py:594: UserWarning: Users will not get PARAMETERS / REGISTERS information through TCL files. HWH file is recommended.\n",
      "  warnings.warn(message, UserWarning)\n"
     ]
    }
   ],
   "source": [
    "init_hw(\"/home/xilinx/jupyter_notebooks/mklabs/dot_design_1.bit\")\n",
    "ol?"
   ]
  },
  {
   "cell_type": "code",
   "execution_count": 4,
   "metadata": {},
   "outputs": [],
   "source": [
    "DIM = 300\n",
    "\n",
    "a = np.ones((DIM,DIM)).astype('int') * 3\n",
    "b = np.ones((DIM,DIM)).astype('int') * 3\n",
    "c = np.zeros((DIM,DIM)).astype('int')"
   ]
  },
  {
   "cell_type": "code",
   "execution_count": 5,
   "metadata": {},
   "outputs": [
    {
     "data": {
      "text/plain": [
       "4"
      ]
     },
     "execution_count": 5,
     "metadata": {},
     "output_type": "execute_result"
    }
   ],
   "source": [
    "xlnk.xlnk_reset()\n",
    "ip.write(0x00, 4)\n",
    "ip.read(0x00)"
   ]
  },
  {
   "cell_type": "code",
   "execution_count": null,
   "metadata": {},
   "outputs": [],
   "source": [
    "%%timeit\n",
    "\n",
    "xlnk.xlnk_reset()\n",
    "ip.write(0x00, 4)\n",
    "fpga_state = ip.read(0x00)\n",
    "\n",
    "a_p = xlnk.cma_array(shape=((DIM, DIM)), dtype=np.int32)\n",
    "b_p = xlnk.cma_array(shape=((DIM, DIM)), dtype=np.int32)\n",
    "c_p = xlnk.cma_array(shape=((DIM, DIM)), dtype=np.int32)\n",
    "\n",
    "np.copyto(a_p, a)\n",
    "np.copyto(b_p, b)\n",
    "np.copyto(c_p, c)\n",
    "\n",
    "a_p_ptr = a_p.physical_address\n",
    "b_p_ptr = b_p.physical_address\n",
    "c_p_ptr = c_p.physical_address\n",
    "\n",
    "ip.write(0x00, 4)\n",
    "\n",
    "if fpga_state == 4:\n",
    "    ip.write(XMUL_MATRIX_AXILITES_ADDR_A_DATA, a_p_ptr)\n",
    "    ip.write(XMUL_MATRIX_AXILITES_ADDR_B_DATA, b_p_ptr)\n",
    "    ip.write(XMUL_MATRIX_AXILITES_ADDR_C_DATA, c_p_ptr)\n",
    "else:\n",
    "    print(\"Can't write values, must be in IDLE state\")\n",
    "    raise KeyboardInterrupt\n",
    "\n",
    "ip.write(0x00, 1)\n",
    "fpga_state = ip.read(0x00)\n",
    "\n",
    "max_try = 1000000\n",
    "while fpga_state != 6 and fpga_state != 4:\n",
    "    fpga_state = ip.read(0x00)\n",
    "    max_try = max_try -1\n",
    "    if max_try == 0:\n",
    "        print(\"ERROR: Can't go ahead\")\n",
    "        ip.write(0x00, 4)\n",
    "        raise KeyboardInterrupt\n",
    "        \n",
    "ip.write(0x00, 4)\n",
    "c[:, :] = c_p"
   ]
  }
 ],
 "metadata": {
  "kernelspec": {
   "display_name": "Python 3",
   "language": "python",
   "name": "python3"
  },
  "language_info": {
   "codemirror_mode": {
    "name": "ipython",
    "version": 3
   },
   "file_extension": ".py",
   "mimetype": "text/x-python",
   "name": "python",
   "nbconvert_exporter": "python",
   "pygments_lexer": "ipython3",
   "version": "3.6.5"
  }
 },
 "nbformat": 4,
 "nbformat_minor": 2
}
