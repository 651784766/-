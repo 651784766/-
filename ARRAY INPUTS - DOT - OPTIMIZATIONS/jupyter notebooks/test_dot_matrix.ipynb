{
 "cells": [
  {
   "cell_type": "markdown",
   "execution_count": null,
   "metadata": {},
   "outputs": [],
   "source": [
    "# ARRAY INPUTS - DOT\n",
    "In this notebook we explain how to use ```pynq``` framework to test the acceleration of dot multiplication."
   ]
  },
  {
   "cell_type": "code",
   "execution_count": null,
   "metadata": {},
   "outputs": [],
   "source": [
    "import datetime\n",
    "from pynq import Overlay\n",
    "from pynq import DefaultIP\n",
    "from pynq import DefaultHierarchy\n",
    "from pynq import Xlnk\n",
    "from pynq import MMIO\n",
    "from pynq.pl import *\n",
    "import pynq.lib.dma\n",
    "import numpy as np\n",
    "import time"
   ]
  },
  {
   "cell_type": "markdown",
   "execution_count": null,
   "metadata": {},
   "outputs": [],
   "source": [
    "These variables are the addresses where variables visible to FPGA are mapped. In the function to synthesize in Vivado HLS they are passed as parameters.\n",
    " - ```XMUL_MATRIX_AXILITES_ADDR_X_DATA``` is the address;\n",
    " - ```XMUL_MATRIX_AXILITES_BITS_X_DATA``` is the 32-bit alignment of the registers. "
   ]
  },
  {
   "cell_type": "code",
   "execution_count": null,
   "metadata": {},
   "outputs": [],
   "source": [
    "XMUL_MATRIX_AXILITES_ADDR_A_DATA = 0x10\n",
    "XMUL_MATRIX_AXILITES_BITS_A_DATA = 32\n",
    "XMUL_MATRIX_AXILITES_ADDR_B_DATA = 0x18\n",
    "XMUL_MATRIX_AXILITES_BITS_B_DATA = 32\n",
    "XMUL_MATRIX_AXILITES_ADDR_C_DATA = 0x20\n",
    "XMUL_MATRIX_AXILITES_BITS_C_DATA = 32"
   ]
  },
  {
   "cell_type": "markdown",
   "execution_count": null,
   "metadata": {},
   "outputs": [],
   "source": [
    "The function initializes the hardware of FPGA building an object that contains synthesized module (```ol```), which contains all infos to execute IP module, and a reference to IP (```ip```)."
   ]
  },
  {
   "cell_type": "code",
   "execution_count": null,
   "metadata": {},
   "outputs": [],
   "source": [
    "def init_hw(filepath):\n",
    "    global ol, xlnk, ip\n",
    "    xlnk = Xlnk()\n",
    "    ol = Overlay(filepath)\n",
    "    ip = ol.dot_matrix_0"
   ]
  },
  {
   "cell_type": "code",
   "execution_count": null,
   "metadata": {},
   "outputs": [],
   "source": [
    "init_hw(\"/home/xilinx/jupyter_notebooks/mklabs/dot_design_1.bit\")\n",
    "ol?"
   ]
  },
  {
   "cell_type": "markdown",
   "execution_count": null,
   "metadata": {},
   "outputs": [],
   "source": [
    "In this block the variables that are needed later are initialized. The suggestion is to use ```numpy```."
   ]
  },
  {
   "cell_type": "code",
   "execution_count": null,
   "metadata": {},
   "outputs": [],
   "source": [
    "DIM = 300\n",
    "\n",
    "a = np.ones((DIM,DIM)).astype('int') * 3\n",
    "b = np.ones((DIM,DIM)).astype('int') * 3\n",
    "c = np.zeros((DIM,DIM)).astype('int')"
   ]
  },
  {
   "cell_type": "markdown",
   "execution_count": null,
   "metadata": {},
   "outputs": [],
   "source": [
    "Here the FPGA is reset. With ```ip.write(0x00, 4)``` instruction, the FPGA is put in ```idle``` state, writing value ```4``` in the control registry (```0x00```)."
   ]
  },
  {
   "cell_type": "code",
   "execution_count": null,
   "metadata": {},
   "outputs": [],
   "source": [
    "xlnk.xlnk_reset()\n",
    "ip.write(0x00, 4)\n",
    "fpga_state = ip.read(0x00)"
   ]
  },
  {
   "cell_type": "markdown",
   "execution_count": null,
   "metadata": {},
   "outputs": [],
   "source": [
    "This section specifies the allocation of the variables where the size and their type must be specified as is written in Vivado HLS"
   ]
  },
  {
   "cell_type": "code",
   "execution_count": null,
   "metadata": {},
   "outputs": [],
   "source": [
    "a_p = xlnk.cma_array(shape=((DIM, DIM)), dtype=np.int32)\n",
    "b_p = xlnk.cma_array(shape=((DIM, DIM)), dtype=np.int32)\n",
    "c_p = xlnk.cma_array(shape=((DIM, DIM)), dtype=np.int32)\n",
    "\n",
    "np.copyto(a_p, a)\n",
    "np.copyto(b_p, b)\n",
    "np.copyto(c_p, c)"
   ]
  },
  {
   "cell_type": "markdown",
   "execution_count": null,
   "metadata": {},
   "outputs": [],
   "source": [
    "Now we get the physical addresses of the previously allocated variables. If the FPGA is in ```idle``` state (```4```), then we write in the registers of the IP module the values of the arrays to be passed to it for execution."
   ]
  },
  {
   "cell_type": "code",
   "execution_count": null,
   "metadata": {},
   "outputs": [],
   "source": [
    "a_p_ptr = a_p.physical_address\n",
    "b_p_ptr = b_p.physical_address\n",
    "c_p_ptr = c_p.physical_address\n",
    "\n",
    "ip.write(0x00, 4)\n",
    "\n",
    "if fpga_state == 4:\n",
    "    ip.write(XMUL_MATRIX_AXILITES_ADDR_A_DATA, a_p_ptr)\n",
    "    ip.write(XMUL_MATRIX_AXILITES_ADDR_B_DATA, b_p_ptr)\n",
    "    ip.write(XMUL_MATRIX_AXILITES_ADDR_C_DATA, c_p_ptr)\n",
    "else:\n",
    "    print(\"Can't write values, must be in IDLE state\")\n",
    "    raise KeyboardInterrupt"
   ]
  },
  {
   "cell_type": "markdown",
   "execution_count": null,
   "metadata": {},
   "outputs": [],
   "source": [
    "With ```ip.write(0x00, 1)``` we write ```1``` in control register, that starts the execution of the IP module. Another one time is saved the FPGA state that, at the end of execution it will be ```4``` (```idle```) or ```6``` (```done```). After the ```while``` cycle, we save the result with a simply assignment."
   ]
  },
  {
   "cell_type": "code",
   "execution_count": null,
   "metadata": {},
   "outputs": [],
   "source": [
    "%%timeit\n",
    "\n",
    "ip.write(0x00, 1)\n",
    "fpga_state = ip.read(0x00)\n",
    "\n",
    "max_try = 1000000\n",
    "while fpga_state != 6 and fpga_state != 4:\n",
    "    fpga_state = ip.read(0x00)\n",
    "    max_try = max_try -1\n",
    "    if max_try == 0:\n",
    "        print(\"ERROR: Can't go ahead\")\n",
    "        ip.write(0x00, 4)\n",
    "        raise KeyboardInterrupt\n",
    "        \n",
    "ip.write(0x00, 4)\n",
    "c[:, :] = c_p"
   ]
  }
 ],
 "metadata": {
  "kernelspec": {
   "display_name": "Python 3",
   "language": "python",
   "name": "python3"
  },
  "language_info": {
   "codemirror_mode": {
    "name": "ipython",
    "version": 3
   },
   "file_extension": ".py",
   "mimetype": "text/x-python",
   "name": "python",
   "nbconvert_exporter": "python",
   "pygments_lexer": "ipython3",
   "version": "3.7.5"
  }
 },
 "nbformat": 4,
 "nbformat_minor": 2
}