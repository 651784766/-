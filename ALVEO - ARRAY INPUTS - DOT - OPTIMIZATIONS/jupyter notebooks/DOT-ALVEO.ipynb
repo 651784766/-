{
 "cells": [
  {
   "cell_type": "markdown",
   "metadata": {},
   "source": [
    "# ARRAY INPUTS - DOT - OPTIMIZATIONS\n",
    "\n",
    "In this notebook we explain how to use ```pynq``` framework to test the acceleration (optimized) of dot multiplication on ```Alveo U200```."
   ]
  },
  {
   "cell_type": "code",
   "execution_count": null,
   "metadata": {},
   "outputs": [],
   "source": [
    "from pynq import Overlay\n",
    "from pynq import DefaultIP\n",
    "from pynq import DefaultHierarchy\n",
    "from pynq import MMIO\n",
    "from pynq.pl import *\n",
    "import pynq.lib.dma"
   ]
  },
  {
   "cell_type": "markdown",
   "metadata": {},
   "source": [
    "The function initializes the hardware of FPGA building an object that contains synthesized module (```ol```), which contains all infos to execute IP module, and a reference to IP (```ip```). At the end of initialization, prints the signature of the C function."
   ]
  },
  {
   "cell_type": "code",
   "execution_count": null,
   "metadata": {},
   "outputs": [],
   "source": [
    "def init_hw(filepath):\n",
    "    global ol, dot\n",
    "    ol = Overlay(filepath)\n",
    "    dot = ol.dot_matrix_1\n",
    "    print(dot.signature)"
   ]
  },
  {
   "cell_type": "code",
   "execution_count": null,
   "metadata": {},
   "outputs": [],
   "source": [
    "init_hw(\"/path/to/binary_container_1.xclbin\")"
   ]
  },
  {
   "cell_type": "markdown",
   "metadata": {},
   "source": [
    "In this block the variables that are needed later are allocated and initialized. This specifies the allocation of the variables where the size and their type must be specified as written in Vivado HLS. The suggestion is to use ```numpy```."
   ]
  },
  {
   "cell_type": "code",
   "execution_count": null,
   "metadata": {},
   "outputs": [],
   "source": [
    "DIM = 300\n",
    "\n",
    "a = allocate(shape=((DIM, DIM)), dtype=np.int32, cacheable=True)\n",
    "b = allocate(shape=((DIM, DIM)), dtype=np.int32, cacheable=True)\n",
    "c = allocate(shape=((DIM, DIM)), dtype=np.int32, cacheable=True)\n",
    "\n",
    "a[:] = np.ones((DIM,DIM)).astype('int') * 3\n",
    "b[:] = np.ones((DIM,DIM)).astype('int') * 3\n",
    "c[:] = np.zeros((DIM,DIM)).astype('int')"
   ]
  },
  {
   "cell_type": "markdown",
   "metadata": {},
   "source": [
    "Now variables previously allocated are flushed in the global memory of Alveo."
   ]
  },
  {
   "cell_type": "code",
   "execution_count": null,
   "metadata": {},
   "outputs": [],
   "source": [
    "a.sync_to_device()\n",
    "b.sync_to_device()\n",
    "c.sync_to_device()"
   ]
  },
  {
   "cell_type": "markdown",
   "metadata": {},
   "source": [
    "The ```call``` function starts the execution of the IP module and ```wait``` function is used to synchronize the events avoiding reading/writing on the buffer of the IP module which may lead to race conditions."
   ]
  },
  {
   "cell_type": "code",
   "execution_count": null,
   "metadata": {},
   "outputs": [],
   "source": [
    "dot.call(a, b, c)"
   ]
  },
  {
   "cell_type": "markdown",
   "metadata": {},
   "source": [
    "The ```invalidate``` function is used on the output buffer because we have no other computations to do and so we want to store the result without using it again."
   ]
  },
  {
   "cell_type": "code",
   "execution_count": null,
   "metadata": {},
   "outputs": [],
   "source": [
    "c.sync_from_device()"
   ]
  },
  {
   "cell_type": "code",
   "execution_count": null,
   "metadata": {},
   "outputs": [],
   "source": [
    "result[:] = c"
   ]
  },
  {
   "cell_type": "code",
   "execution_count": null,
   "metadata": {},
   "outputs": [],
   "source": [
    "del a\n",
    "del b\n",
    "del c"
   ]
  }
 ],
 "metadata": {
  "kernelspec": {
   "display_name": "Python 3",
   "language": "python",
   "name": "python3"
  },
  "language_info": {
   "codemirror_mode": {
    "name": "ipython",
    "version": 3
   },
   "file_extension": ".py",
   "mimetype": "text/x-python",
   "name": "python",
   "nbconvert_exporter": "python",
   "pygments_lexer": "ipython3",
   "version": "3.7.4"
  }
 },
 "nbformat": 4,
 "nbformat_minor": 2
}
